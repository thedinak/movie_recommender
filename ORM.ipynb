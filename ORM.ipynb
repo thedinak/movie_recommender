{
 "cells": [
  {
   "cell_type": "markdown",
   "metadata": {},
   "source": [
    "### Step 1. Create engine object, like normal."
   ]
  },
  {
   "cell_type": "code",
   "execution_count": 5,
   "metadata": {},
   "outputs": [],
   "source": [
    "from sqlalchemy import create_engine\n",
    "import os"
   ]
  },
  {
   "cell_type": "code",
   "execution_count": 6,
   "metadata": {},
   "outputs": [],
   "source": [
    "pws = os.getenv('DINAS_POSTGRES_PASSWORD')"
   ]
  },
  {
   "cell_type": "code",
   "execution_count": 9,
   "metadata": {},
   "outputs": [],
   "source": [
    "conn_string = 'postgres://localhost:5432/northwind'"
   ]
  },
  {
   "cell_type": "code",
   "execution_count": 10,
   "metadata": {},
   "outputs": [],
   "source": [
    "engine = create_engine(conn_string, encoding='latin1', echo=True)"
   ]
  },
  {
   "cell_type": "code",
   "execution_count": 13,
   "metadata": {},
   "outputs": [
    {
     "name": "stdout",
     "output_type": "stream",
     "text": [
      "2020-03-12 09:46:09,316 INFO sqlalchemy.engine.base.Engine SELECT * FROM customers\n",
      "2020-03-12 09:46:09,318 INFO sqlalchemy.engine.base.Engine {}\n"
     ]
    },
    {
     "data": {
      "text/plain": [
       "('ALFKI', 'Alfreds Futterkiste', 'Maria Anders', 'Sales Representative', 'Obere Str. 57', 'Berlin', None, '12209', 'Germany', '030-0074321', '030-0076545')"
      ]
     },
     "execution_count": 13,
     "metadata": {},
     "output_type": "execute_result"
    }
   ],
   "source": [
    "next(engine.execute('SELECT * FROM customers'))"
   ]
  },
  {
   "cell_type": "markdown",
   "metadata": {},
   "source": [
    "### Step 2. Declarative Mapping"
   ]
  },
  {
   "cell_type": "code",
   "execution_count": 14,
   "metadata": {},
   "outputs": [],
   "source": [
    "from sqlalchemy.ext.declarative import declarative_base\n",
    "\n",
    "Base = declarative_base()"
   ]
  },
  {
   "cell_type": "markdown",
   "metadata": {},
   "source": [
    "### Step 3. Create a table Class that will map to an actual table in PostGres"
   ]
  },
  {
   "cell_type": "code",
   "execution_count": 15,
   "metadata": {},
   "outputs": [],
   "source": [
    "from sqlalchemy import Column, Integer, String\n",
    "\n",
    "class Movie(Base):\n",
    "    \n",
    "    __tablename__ = 'movie'\n",
    "    \n",
    "    id = Column(Integer, primary_key=True)\n",
    "    title = Column(String(50)) #VARCHAR(50)\n",
    "    director = Column(String(50))\n",
    "    genres = Column(String(100))\n",
    "    \n",
    "    def __repr__(self):\n",
    "        return f'<Movie(id={self.id}, title={self.title})>'\n",
    "    \n",
    "    "
   ]
  },
  {
   "cell_type": "markdown",
   "metadata": {},
   "source": [
    "### Step 4. Create the Table"
   ]
  },
  {
   "cell_type": "code",
   "execution_count": 16,
   "metadata": {},
   "outputs": [
    {
     "data": {
      "text/plain": [
       "Table('movie', MetaData(bind=None), Column('id', Integer(), table=<movie>, primary_key=True, nullable=False), Column('title', String(length=50), table=<movie>), Column('director', String(length=50), table=<movie>), Column('genres', String(length=100), table=<movie>), schema=None)"
      ]
     },
     "execution_count": 16,
     "metadata": {},
     "output_type": "execute_result"
    }
   ],
   "source": [
    "Movie.__table__"
   ]
  },
  {
   "cell_type": "code",
   "execution_count": 17,
   "metadata": {},
   "outputs": [
    {
     "name": "stdout",
     "output_type": "stream",
     "text": [
      "2020-03-12 09:52:06,230 INFO sqlalchemy.engine.base.Engine select relname from pg_class c join pg_namespace n on n.oid=c.relnamespace where pg_catalog.pg_table_is_visible(c.oid) and relname=%(name)s\n",
      "2020-03-12 09:52:06,232 INFO sqlalchemy.engine.base.Engine {'name': 'movie'}\n",
      "2020-03-12 09:52:06,267 INFO sqlalchemy.engine.base.Engine \n",
      "CREATE TABLE movie (\n",
      "\tid SERIAL NOT NULL, \n",
      "\ttitle VARCHAR(50), \n",
      "\tdirector VARCHAR(50), \n",
      "\tgenres VARCHAR(100), \n",
      "\tPRIMARY KEY (id)\n",
      ")\n",
      "\n",
      "\n",
      "2020-03-12 09:52:06,268 INFO sqlalchemy.engine.base.Engine {}\n",
      "2020-03-12 09:52:06,336 INFO sqlalchemy.engine.base.Engine COMMIT\n"
     ]
    }
   ],
   "source": [
    "Base.metadata.create_all(engine)"
   ]
  },
  {
   "cell_type": "code",
   "execution_count": 18,
   "metadata": {},
   "outputs": [],
   "source": [
    "movie1 = Movie(title='Gladiator', director='Ridley Scott', genres = 'Drama|Action|Historical')"
   ]
  },
  {
   "cell_type": "code",
   "execution_count": 19,
   "metadata": {},
   "outputs": [
    {
     "data": {
      "text/plain": [
       "<Movie(id=None, title=Gladiator)>"
      ]
     },
     "execution_count": 19,
     "metadata": {},
     "output_type": "execute_result"
    }
   ],
   "source": [
    "movie1"
   ]
  },
  {
   "cell_type": "markdown",
   "metadata": {},
   "source": [
    "### Step 5. Establish a \"Session\""
   ]
  },
  {
   "cell_type": "code",
   "execution_count": 20,
   "metadata": {},
   "outputs": [],
   "source": [
    "from sqlalchemy.orm import sessionmaker\n",
    "#factory function from sqlalchemy"
   ]
  },
  {
   "cell_type": "code",
   "execution_count": 21,
   "metadata": {},
   "outputs": [],
   "source": [
    "Session = sessionmaker(bind=engine)\n",
    "session = Session() #kind of like git init"
   ]
  },
  {
   "cell_type": "markdown",
   "metadata": {},
   "source": [
    "### Step 6. Add data to the session"
   ]
  },
  {
   "cell_type": "code",
   "execution_count": 22,
   "metadata": {},
   "outputs": [],
   "source": [
    "session.add(movie1) #kind of like git add"
   ]
  },
  {
   "cell_type": "code",
   "execution_count": 23,
   "metadata": {},
   "outputs": [],
   "source": [
    "movie2 = Movie(title='Toy Story', director='John Lasseter', genres='Children|Animation')\n",
    "movie3 = Movie(title='Up', director='JPete Docter', genres='Children|Animation')\n",
    "movie4 = Movie(title='Interstellar', director='Christopher Nolan', genres='Sci-Fi|Action')"
   ]
  },
  {
   "cell_type": "code",
   "execution_count": 24,
   "metadata": {},
   "outputs": [],
   "source": [
    "session.add_all([movie2, movie3, movie4])"
   ]
  },
  {
   "cell_type": "code",
   "execution_count": 25,
   "metadata": {},
   "outputs": [
    {
     "data": {
      "text/plain": [
       "IdentitySet([<Movie(id=None, title=Gladiator)>, <Movie(id=None, title=Toy Story)>, <Movie(id=None, title=Up)>, <Movie(id=None, title=Interstellar)>])"
      ]
     },
     "execution_count": 25,
     "metadata": {},
     "output_type": "execute_result"
    }
   ],
   "source": [
    "session.new #git status after adding "
   ]
  },
  {
   "cell_type": "markdown",
   "metadata": {},
   "source": [
    "### Step 7. Commit data to the database"
   ]
  },
  {
   "cell_type": "code",
   "execution_count": 26,
   "metadata": {},
   "outputs": [
    {
     "name": "stdout",
     "output_type": "stream",
     "text": [
      "2020-03-12 09:58:54,713 INFO sqlalchemy.engine.base.Engine BEGIN (implicit)\n",
      "2020-03-12 09:58:54,719 INFO sqlalchemy.engine.base.Engine INSERT INTO movie (title, director, genres) VALUES (%(title)s, %(director)s, %(genres)s) RETURNING movie.id\n",
      "2020-03-12 09:58:54,720 INFO sqlalchemy.engine.base.Engine {'title': 'Gladiator', 'director': 'Ridley Scott', 'genres': 'Drama|Action|Historical'}\n",
      "2020-03-12 09:58:54,749 INFO sqlalchemy.engine.base.Engine INSERT INTO movie (title, director, genres) VALUES (%(title)s, %(director)s, %(genres)s) RETURNING movie.id\n",
      "2020-03-12 09:58:54,750 INFO sqlalchemy.engine.base.Engine {'title': 'Toy Story', 'director': 'John Lasseter', 'genres': 'Children|Animation'}\n",
      "2020-03-12 09:58:54,752 INFO sqlalchemy.engine.base.Engine INSERT INTO movie (title, director, genres) VALUES (%(title)s, %(director)s, %(genres)s) RETURNING movie.id\n",
      "2020-03-12 09:58:54,754 INFO sqlalchemy.engine.base.Engine {'title': 'Up', 'director': 'JPete Docter', 'genres': 'Children|Animation'}\n",
      "2020-03-12 09:58:54,758 INFO sqlalchemy.engine.base.Engine INSERT INTO movie (title, director, genres) VALUES (%(title)s, %(director)s, %(genres)s) RETURNING movie.id\n",
      "2020-03-12 09:58:54,759 INFO sqlalchemy.engine.base.Engine {'title': 'Interstellar', 'director': 'Christopher Nolan', 'genres': 'Sci-Fi|Action'}\n",
      "2020-03-12 09:58:54,762 INFO sqlalchemy.engine.base.Engine COMMIT\n"
     ]
    }
   ],
   "source": [
    "session.commit()"
   ]
  },
  {
   "cell_type": "markdown",
   "metadata": {},
   "source": [
    "How to query:"
   ]
  },
  {
   "cell_type": "code",
   "execution_count": 27,
   "metadata": {},
   "outputs": [],
   "source": [
    "result = session.query(Movie).filter(Movie.id > 1).filter(Movie.title.like('%T%'))"
   ]
  },
  {
   "cell_type": "code",
   "execution_count": 29,
   "metadata": {},
   "outputs": [
    {
     "name": "stdout",
     "output_type": "stream",
     "text": [
      "2020-03-12 10:07:28,317 INFO sqlalchemy.engine.base.Engine SELECT movie.id AS movie_id, movie.title AS movie_title, movie.director AS movie_director, movie.genres AS movie_genres \n",
      "FROM movie \n",
      "WHERE movie.id > %(id_1)s AND movie.title LIKE %(title_1)s\n",
      "2020-03-12 10:07:28,318 INFO sqlalchemy.engine.base.Engine {'id_1': 1, 'title_1': '%T%'}\n",
      "Toy Story\n"
     ]
    }
   ],
   "source": [
    "for i in result:\n",
    "    print(i.title)"
   ]
  },
  {
   "cell_type": "code",
   "execution_count": 30,
   "metadata": {},
   "outputs": [
    {
     "name": "stdout",
     "output_type": "stream",
     "text": [
      "2020-03-12 10:07:50,383 INFO sqlalchemy.engine.base.Engine SELECT movie.id AS movie_id, movie.title AS movie_title, movie.director AS movie_director, movie.genres AS movie_genres \n",
      "FROM movie \n",
      "WHERE movie.title = %(title_1)s \n",
      " LIMIT %(param_1)s\n",
      "2020-03-12 10:07:50,385 INFO sqlalchemy.engine.base.Engine {'title_1': 'Gladiator', 'param_1': 1}\n"
     ]
    }
   ],
   "source": [
    "result = session.query(Movie).filter_by(title='Gladiator').first()"
   ]
  },
  {
   "cell_type": "code",
   "execution_count": 31,
   "metadata": {},
   "outputs": [
    {
     "data": {
      "text/plain": [
       "'Gladiator'"
      ]
     },
     "execution_count": 31,
     "metadata": {},
     "output_type": "execute_result"
    }
   ],
   "source": [
    "result.title"
   ]
  },
  {
   "cell_type": "markdown",
   "metadata": {},
   "source": [
    "### Step 8. What about tables that already exist?"
   ]
  },
  {
   "cell_type": "code",
   "execution_count": null,
   "metadata": {},
   "outputs": [],
   "source": [
    "engine2 = create_engine('postgres://localhost:5432/movies-small', echo=True)\n"
   ]
  },
  {
   "cell_type": "code",
   "execution_count": null,
   "metadata": {},
   "outputs": [],
   "source": [
    "Base2 = declarative_base(bind=engine2)"
   ]
  },
  {
   "cell_type": "code",
   "execution_count": null,
   "metadata": {},
   "outputs": [],
   "source": [
    "class Rating(Base2):\n",
    "    \n",
    "    __tablename__ = 'ratings'\n",
    "    __table_args__ = {'autoload': True}"
   ]
  },
  {
   "cell_type": "code",
   "execution_count": null,
   "metadata": {},
   "outputs": [],
   "source": [
    "Session2 = sessionmaker(bind=engine2)\n",
    "session2 = Session2()"
   ]
  },
  {
   "cell_type": "code",
   "execution_count": null,
   "metadata": {},
   "outputs": [],
   "source": [
    "example = session2.query(Rating).first() #SELECT * FROM ratings LIMIT 1;"
   ]
  },
  {
   "cell_type": "code",
   "execution_count": null,
   "metadata": {},
   "outputs": [],
   "source": [
    "example.movieId"
   ]
  },
  {
   "cell_type": "code",
   "execution_count": null,
   "metadata": {},
   "outputs": [],
   "source": []
  }
 ],
 "metadata": {
  "kernelspec": {
   "display_name": "Python 3",
   "language": "python",
   "name": "python3"
  },
  "language_info": {
   "codemirror_mode": {
    "name": "ipython",
    "version": 3
   },
   "file_extension": ".py",
   "mimetype": "text/x-python",
   "name": "python",
   "nbconvert_exporter": "python",
   "pygments_lexer": "ipython3",
   "version": "3.7.4"
  },
  "varInspector": {
   "cols": {
    "lenName": 16,
    "lenType": 16,
    "lenVar": 40
   },
   "kernels_config": {
    "python": {
     "delete_cmd_postfix": "",
     "delete_cmd_prefix": "del ",
     "library": "var_list.py",
     "varRefreshCmd": "print(var_dic_list())"
    },
    "r": {
     "delete_cmd_postfix": ") ",
     "delete_cmd_prefix": "rm(",
     "library": "var_list.r",
     "varRefreshCmd": "cat(var_dic_list()) "
    }
   },
   "types_to_exclude": [
    "module",
    "function",
    "builtin_function_or_method",
    "instance",
    "_Feature"
   ],
   "window_display": false
  }
 },
 "nbformat": 4,
 "nbformat_minor": 2
}
