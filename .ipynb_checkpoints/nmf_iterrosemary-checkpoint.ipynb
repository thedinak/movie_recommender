{
 "cells": [
  {
   "cell_type": "code",
   "execution_count": 1,
   "metadata": {},
   "outputs": [],
   "source": [
    "import numpy as np\n",
    "from sklearn.decomposition import NMF\n",
    "import pandas as pd"
   ]
  },
  {
   "cell_type": "code",
   "execution_count": 2,
   "metadata": {},
   "outputs": [],
   "source": [
    "# decide on the movies\n",
    "movies = ['Titanic', 'Tiffany', 'StarTrek', 'Terminator', 'StarWars']\n",
    "users = ['Julius', 'Dina', 'Flann', 'Alex', 'Xaver']"
   ]
  },
  {
   "cell_type": "code",
   "execution_count": 3,
   "metadata": {},
   "outputs": [],
   "source": [
    "# movie, ratings by users\n",
    "data = [\n",
    "    [2, 4, 2, 5, 2],\n",
    "    [3, 5, 0, 5, 3],\n",
    "    [2, 0, 4, 3, 5],\n",
    "    [2, 3, 4, 3, 4],\n",
    "    [5, 0, 3, 4, 3]\n",
    "]"
   ]
  },
  {
   "cell_type": "code",
   "execution_count": 4,
   "metadata": {},
   "outputs": [
    {
     "data": {
      "text/html": [
       "<div>\n",
       "<style scoped>\n",
       "    .dataframe tbody tr th:only-of-type {\n",
       "        vertical-align: middle;\n",
       "    }\n",
       "\n",
       "    .dataframe tbody tr th {\n",
       "        vertical-align: top;\n",
       "    }\n",
       "\n",
       "    .dataframe thead th {\n",
       "        text-align: right;\n",
       "    }\n",
       "</style>\n",
       "<table border=\"1\" class=\"dataframe\">\n",
       "  <thead>\n",
       "    <tr style=\"text-align: right;\">\n",
       "      <th></th>\n",
       "      <th>Titanic</th>\n",
       "      <th>Tiffany</th>\n",
       "      <th>StarTrek</th>\n",
       "      <th>Terminator</th>\n",
       "      <th>StarWars</th>\n",
       "    </tr>\n",
       "  </thead>\n",
       "  <tbody>\n",
       "    <tr>\n",
       "      <td>Julius</td>\n",
       "      <td>2</td>\n",
       "      <td>4</td>\n",
       "      <td>2</td>\n",
       "      <td>5</td>\n",
       "      <td>2</td>\n",
       "    </tr>\n",
       "    <tr>\n",
       "      <td>Dina</td>\n",
       "      <td>3</td>\n",
       "      <td>5</td>\n",
       "      <td>0</td>\n",
       "      <td>5</td>\n",
       "      <td>3</td>\n",
       "    </tr>\n",
       "    <tr>\n",
       "      <td>Flann</td>\n",
       "      <td>2</td>\n",
       "      <td>0</td>\n",
       "      <td>4</td>\n",
       "      <td>3</td>\n",
       "      <td>5</td>\n",
       "    </tr>\n",
       "    <tr>\n",
       "      <td>Alex</td>\n",
       "      <td>2</td>\n",
       "      <td>3</td>\n",
       "      <td>4</td>\n",
       "      <td>3</td>\n",
       "      <td>4</td>\n",
       "    </tr>\n",
       "    <tr>\n",
       "      <td>Xaver</td>\n",
       "      <td>5</td>\n",
       "      <td>0</td>\n",
       "      <td>3</td>\n",
       "      <td>4</td>\n",
       "      <td>3</td>\n",
       "    </tr>\n",
       "  </tbody>\n",
       "</table>\n",
       "</div>"
      ],
      "text/plain": [
       "        Titanic  Tiffany  StarTrek  Terminator  StarWars\n",
       "Julius        2        4         2           5         2\n",
       "Dina          3        5         0           5         3\n",
       "Flann         2        0         4           3         5\n",
       "Alex          2        3         4           3         4\n",
       "Xaver         5        0         3           4         3"
      ]
     },
     "execution_count": 4,
     "metadata": {},
     "output_type": "execute_result"
    }
   ],
   "source": [
    "# build the user_movie_ratings_matrix\n",
    "R = pd.DataFrame(data, index=users, columns=movies)\n",
    "R"
   ]
  },
  {
   "cell_type": "code",
   "execution_count": 5,
   "metadata": {},
   "outputs": [
    {
     "data": {
      "text/plain": [
       "NMF(alpha=0.0, beta_loss='frobenius', init=None, l1_ratio=0.0, max_iter=200,\n",
       "    n_components=2, random_state=None, shuffle=False, solver='cd', tol=0.0001,\n",
       "    verbose=0)"
      ]
     },
     "execution_count": 5,
     "metadata": {},
     "output_type": "execute_result"
    }
   ],
   "source": [
    "#create a model\n",
    "# model assumes R ~ PQ'\n",
    "model = NMF(n_components=2)\n",
    "model.fit(R)"
   ]
  },
  {
   "cell_type": "code",
   "execution_count": 6,
   "metadata": {},
   "outputs": [
    {
     "data": {
      "text/html": [
       "<div>\n",
       "<style scoped>\n",
       "    .dataframe tbody tr th:only-of-type {\n",
       "        vertical-align: middle;\n",
       "    }\n",
       "\n",
       "    .dataframe tbody tr th {\n",
       "        vertical-align: top;\n",
       "    }\n",
       "\n",
       "    .dataframe thead th {\n",
       "        text-align: right;\n",
       "    }\n",
       "</style>\n",
       "<table border=\"1\" class=\"dataframe\">\n",
       "  <thead>\n",
       "    <tr style=\"text-align: right;\">\n",
       "      <th></th>\n",
       "      <th>Titanic</th>\n",
       "      <th>Tiffany</th>\n",
       "      <th>StarTrek</th>\n",
       "      <th>Terminator</th>\n",
       "      <th>StarWars</th>\n",
       "    </tr>\n",
       "  </thead>\n",
       "  <tbody>\n",
       "    <tr>\n",
       "      <td>feature1</td>\n",
       "      <td>1.511426</td>\n",
       "      <td>0.000000</td>\n",
       "      <td>2.089755</td>\n",
       "      <td>1.501122</td>\n",
       "      <td>2.112315</td>\n",
       "    </tr>\n",
       "    <tr>\n",
       "      <td>feature2</td>\n",
       "      <td>0.878604</td>\n",
       "      <td>2.264529</td>\n",
       "      <td>0.000000</td>\n",
       "      <td>1.993976</td>\n",
       "      <td>0.727743</td>\n",
       "    </tr>\n",
       "  </tbody>\n",
       "</table>\n",
       "</div>"
      ],
      "text/plain": [
       "           Titanic   Tiffany  StarTrek  Terminator  StarWars\n",
       "feature1  1.511426  0.000000  2.089755    1.501122  2.112315\n",
       "feature2  0.878604  2.264529  0.000000    1.993976  0.727743"
      ]
     },
     "execution_count": 6,
     "metadata": {},
     "output_type": "execute_result"
    }
   ],
   "source": [
    "# create movie-genre matrix\n",
    "Q = pd.DataFrame(model.components_, columns=movies, index=['feature1', 'feature2'])\n",
    "Q"
   ]
  },
  {
   "cell_type": "code",
   "execution_count": 7,
   "metadata": {},
   "outputs": [
    {
     "data": {
      "text/html": [
       "<div>\n",
       "<style scoped>\n",
       "    .dataframe tbody tr th:only-of-type {\n",
       "        vertical-align: middle;\n",
       "    }\n",
       "\n",
       "    .dataframe tbody tr th {\n",
       "        vertical-align: top;\n",
       "    }\n",
       "\n",
       "    .dataframe thead th {\n",
       "        text-align: right;\n",
       "    }\n",
       "</style>\n",
       "<table border=\"1\" class=\"dataframe\">\n",
       "  <thead>\n",
       "    <tr style=\"text-align: right;\">\n",
       "      <th></th>\n",
       "      <th>feature1</th>\n",
       "      <th>feature2</th>\n",
       "    </tr>\n",
       "  </thead>\n",
       "  <tbody>\n",
       "    <tr>\n",
       "      <td>Julius</td>\n",
       "      <td>0.636789</td>\n",
       "      <td>1.778866</td>\n",
       "    </tr>\n",
       "    <tr>\n",
       "      <td>Dina</td>\n",
       "      <td>0.365153</td>\n",
       "      <td>2.303797</td>\n",
       "    </tr>\n",
       "    <tr>\n",
       "      <td>Flann</td>\n",
       "      <td>1.978556</td>\n",
       "      <td>0.000000</td>\n",
       "    </tr>\n",
       "    <tr>\n",
       "      <td>Alex</td>\n",
       "      <td>1.441520</td>\n",
       "      <td>0.864799</td>\n",
       "    </tr>\n",
       "    <tr>\n",
       "      <td>Xaver</td>\n",
       "      <td>1.785283</td>\n",
       "      <td>0.393376</td>\n",
       "    </tr>\n",
       "  </tbody>\n",
       "</table>\n",
       "</div>"
      ],
      "text/plain": [
       "        feature1  feature2\n",
       "Julius  0.636789  1.778866\n",
       "Dina    0.365153  2.303797\n",
       "Flann   1.978556  0.000000\n",
       "Alex    1.441520  0.864799\n",
       "Xaver   1.785283  0.393376"
      ]
     },
     "execution_count": 7,
     "metadata": {},
     "output_type": "execute_result"
    }
   ],
   "source": [
    "# create user-genre matrix\n",
    "P = pd.DataFrame(model.transform(R), columns=['feature1', 'feature2'], index=users)\n",
    "P"
   ]
  },
  {
   "cell_type": "code",
   "execution_count": 8,
   "metadata": {},
   "outputs": [
    {
     "data": {
      "text/html": [
       "<div>\n",
       "<style scoped>\n",
       "    .dataframe tbody tr th:only-of-type {\n",
       "        vertical-align: middle;\n",
       "    }\n",
       "\n",
       "    .dataframe tbody tr th {\n",
       "        vertical-align: top;\n",
       "    }\n",
       "\n",
       "    .dataframe thead th {\n",
       "        text-align: right;\n",
       "    }\n",
       "</style>\n",
       "<table border=\"1\" class=\"dataframe\">\n",
       "  <thead>\n",
       "    <tr style=\"text-align: right;\">\n",
       "      <th></th>\n",
       "      <th>Titanic</th>\n",
       "      <th>Tiffany</th>\n",
       "      <th>StarTrek</th>\n",
       "      <th>Terminator</th>\n",
       "      <th>StarWars</th>\n",
       "    </tr>\n",
       "  </thead>\n",
       "  <tbody>\n",
       "    <tr>\n",
       "      <td>Julius</td>\n",
       "      <td>2.525379</td>\n",
       "      <td>4.028293</td>\n",
       "      <td>1.330733</td>\n",
       "      <td>4.502915</td>\n",
       "      <td>2.639656</td>\n",
       "    </tr>\n",
       "    <tr>\n",
       "      <td>Dina</td>\n",
       "      <td>2.576029</td>\n",
       "      <td>5.217016</td>\n",
       "      <td>0.763081</td>\n",
       "      <td>5.141856</td>\n",
       "      <td>2.447891</td>\n",
       "    </tr>\n",
       "    <tr>\n",
       "      <td>Flann</td>\n",
       "      <td>2.990440</td>\n",
       "      <td>0.000000</td>\n",
       "      <td>4.134696</td>\n",
       "      <td>2.970055</td>\n",
       "      <td>4.179333</td>\n",
       "    </tr>\n",
       "    <tr>\n",
       "      <td>Alex</td>\n",
       "      <td>2.938566</td>\n",
       "      <td>1.958362</td>\n",
       "      <td>3.012423</td>\n",
       "      <td>3.888286</td>\n",
       "      <td>3.674295</td>\n",
       "    </tr>\n",
       "    <tr>\n",
       "      <td>Xaver</td>\n",
       "      <td>3.043944</td>\n",
       "      <td>0.890812</td>\n",
       "      <td>3.730803</td>\n",
       "      <td>3.464310</td>\n",
       "      <td>4.057355</td>\n",
       "    </tr>\n",
       "  </tbody>\n",
       "</table>\n",
       "</div>"
      ],
      "text/plain": [
       "         Titanic   Tiffany  StarTrek  Terminator  StarWars\n",
       "Julius  2.525379  4.028293  1.330733    4.502915  2.639656\n",
       "Dina    2.576029  5.217016  0.763081    5.141856  2.447891\n",
       "Flann   2.990440  0.000000  4.134696    2.970055  4.179333\n",
       "Alex    2.938566  1.958362  3.012423    3.888286  3.674295\n",
       "Xaver   3.043944  0.890812  3.730803    3.464310  4.057355"
      ]
     },
     "execution_count": 8,
     "metadata": {},
     "output_type": "execute_result"
    }
   ],
   "source": [
    "# Build and print the reconstructed matrix!\n",
    "Rhat = pd.DataFrame(np.dot(P, Q), index=users, columns=movies)\n",
    "Rhat"
   ]
  },
  {
   "cell_type": "code",
   "execution_count": 9,
   "metadata": {},
   "outputs": [
    {
     "data": {
      "text/html": [
       "<div>\n",
       "<style scoped>\n",
       "    .dataframe tbody tr th:only-of-type {\n",
       "        vertical-align: middle;\n",
       "    }\n",
       "\n",
       "    .dataframe tbody tr th {\n",
       "        vertical-align: top;\n",
       "    }\n",
       "\n",
       "    .dataframe thead th {\n",
       "        text-align: right;\n",
       "    }\n",
       "</style>\n",
       "<table border=\"1\" class=\"dataframe\">\n",
       "  <thead>\n",
       "    <tr style=\"text-align: right;\">\n",
       "      <th></th>\n",
       "      <th>Titanic</th>\n",
       "      <th>Tiffany</th>\n",
       "      <th>StarTrek</th>\n",
       "      <th>Terminator</th>\n",
       "      <th>StarWars</th>\n",
       "    </tr>\n",
       "  </thead>\n",
       "  <tbody>\n",
       "    <tr>\n",
       "      <td>Julius</td>\n",
       "      <td>2</td>\n",
       "      <td>4</td>\n",
       "      <td>2</td>\n",
       "      <td>5</td>\n",
       "      <td>2</td>\n",
       "    </tr>\n",
       "    <tr>\n",
       "      <td>Dina</td>\n",
       "      <td>3</td>\n",
       "      <td>5</td>\n",
       "      <td>0</td>\n",
       "      <td>5</td>\n",
       "      <td>3</td>\n",
       "    </tr>\n",
       "    <tr>\n",
       "      <td>Flann</td>\n",
       "      <td>2</td>\n",
       "      <td>0</td>\n",
       "      <td>4</td>\n",
       "      <td>3</td>\n",
       "      <td>5</td>\n",
       "    </tr>\n",
       "    <tr>\n",
       "      <td>Alex</td>\n",
       "      <td>2</td>\n",
       "      <td>3</td>\n",
       "      <td>4</td>\n",
       "      <td>3</td>\n",
       "      <td>4</td>\n",
       "    </tr>\n",
       "    <tr>\n",
       "      <td>Xaver</td>\n",
       "      <td>5</td>\n",
       "      <td>0</td>\n",
       "      <td>3</td>\n",
       "      <td>4</td>\n",
       "      <td>3</td>\n",
       "    </tr>\n",
       "  </tbody>\n",
       "</table>\n",
       "</div>"
      ],
      "text/plain": [
       "        Titanic  Tiffany  StarTrek  Terminator  StarWars\n",
       "Julius        2        4         2           5         2\n",
       "Dina          3        5         0           5         3\n",
       "Flann         2        0         4           3         5\n",
       "Alex          2        3         4           3         4\n",
       "Xaver         5        0         3           4         3"
      ]
     },
     "execution_count": 9,
     "metadata": {},
     "output_type": "execute_result"
    }
   ],
   "source": [
    "R"
   ]
  },
  {
   "cell_type": "code",
   "execution_count": 10,
   "metadata": {},
   "outputs": [
    {
     "data": {
      "text/plain": [
       "3.818859426888038"
      ]
     },
     "execution_count": 10,
     "metadata": {},
     "output_type": "execute_result"
    }
   ],
   "source": [
    "# look at the reconstruction error\n",
    "model.reconstruction_err_"
   ]
  },
  {
   "cell_type": "code",
   "execution_count": 11,
   "metadata": {},
   "outputs": [],
   "source": [
    "# Add a new user\n",
    "Stefan = [[5, 0, 0, 0, 5]]"
   ]
  },
  {
   "cell_type": "code",
   "execution_count": 12,
   "metadata": {},
   "outputs": [],
   "source": [
    "Rhat = pd.concat([Rhat, pd.DataFrame(np.dot(model.transform(Stefan), Q), index=['Stefan'], columns=movies)])"
   ]
  },
  {
   "cell_type": "code",
   "execution_count": 13,
   "metadata": {},
   "outputs": [],
   "source": [
    "R = pd.concat([R, pd.DataFrame(Stefan, index=['Stefan'], columns=movies)])"
   ]
  },
  {
   "cell_type": "code",
   "execution_count": 14,
   "metadata": {},
   "outputs": [
    {
     "data": {
      "text/html": [
       "<div>\n",
       "<style scoped>\n",
       "    .dataframe tbody tr th:only-of-type {\n",
       "        vertical-align: middle;\n",
       "    }\n",
       "\n",
       "    .dataframe tbody tr th {\n",
       "        vertical-align: top;\n",
       "    }\n",
       "\n",
       "    .dataframe thead th {\n",
       "        text-align: right;\n",
       "    }\n",
       "</style>\n",
       "<table border=\"1\" class=\"dataframe\">\n",
       "  <thead>\n",
       "    <tr style=\"text-align: right;\">\n",
       "      <th></th>\n",
       "      <th>Titanic</th>\n",
       "      <th>Tiffany</th>\n",
       "      <th>StarTrek</th>\n",
       "      <th>Terminator</th>\n",
       "      <th>StarWars</th>\n",
       "    </tr>\n",
       "  </thead>\n",
       "  <tbody>\n",
       "    <tr>\n",
       "      <td>Julius</td>\n",
       "      <td>2.525379</td>\n",
       "      <td>4.028293</td>\n",
       "      <td>1.330733</td>\n",
       "      <td>4.502915</td>\n",
       "      <td>2.639656</td>\n",
       "    </tr>\n",
       "    <tr>\n",
       "      <td>Dina</td>\n",
       "      <td>2.576029</td>\n",
       "      <td>5.217016</td>\n",
       "      <td>0.763081</td>\n",
       "      <td>5.141856</td>\n",
       "      <td>2.447891</td>\n",
       "    </tr>\n",
       "    <tr>\n",
       "      <td>Flann</td>\n",
       "      <td>2.990440</td>\n",
       "      <td>0.000000</td>\n",
       "      <td>4.134696</td>\n",
       "      <td>2.970055</td>\n",
       "      <td>4.179333</td>\n",
       "    </tr>\n",
       "    <tr>\n",
       "      <td>Alex</td>\n",
       "      <td>2.938566</td>\n",
       "      <td>1.958362</td>\n",
       "      <td>3.012423</td>\n",
       "      <td>3.888286</td>\n",
       "      <td>3.674295</td>\n",
       "    </tr>\n",
       "    <tr>\n",
       "      <td>Xaver</td>\n",
       "      <td>3.043944</td>\n",
       "      <td>0.890812</td>\n",
       "      <td>3.730803</td>\n",
       "      <td>3.464310</td>\n",
       "      <td>4.057355</td>\n",
       "    </tr>\n",
       "    <tr>\n",
       "      <td>Stefan</td>\n",
       "      <td>2.051270</td>\n",
       "      <td>0.026172</td>\n",
       "      <td>2.822123</td>\n",
       "      <td>2.050246</td>\n",
       "      <td>2.861001</td>\n",
       "    </tr>\n",
       "  </tbody>\n",
       "</table>\n",
       "</div>"
      ],
      "text/plain": [
       "         Titanic   Tiffany  StarTrek  Terminator  StarWars\n",
       "Julius  2.525379  4.028293  1.330733    4.502915  2.639656\n",
       "Dina    2.576029  5.217016  0.763081    5.141856  2.447891\n",
       "Flann   2.990440  0.000000  4.134696    2.970055  4.179333\n",
       "Alex    2.938566  1.958362  3.012423    3.888286  3.674295\n",
       "Xaver   3.043944  0.890812  3.730803    3.464310  4.057355\n",
       "Stefan  2.051270  0.026172  2.822123    2.050246  2.861001"
      ]
     },
     "execution_count": 14,
     "metadata": {},
     "output_type": "execute_result"
    }
   ],
   "source": [
    "Rhat"
   ]
  },
  {
   "cell_type": "code",
   "execution_count": 15,
   "metadata": {},
   "outputs": [
    {
     "data": {
      "text/html": [
       "<div>\n",
       "<style scoped>\n",
       "    .dataframe tbody tr th:only-of-type {\n",
       "        vertical-align: middle;\n",
       "    }\n",
       "\n",
       "    .dataframe tbody tr th {\n",
       "        vertical-align: top;\n",
       "    }\n",
       "\n",
       "    .dataframe thead th {\n",
       "        text-align: right;\n",
       "    }\n",
       "</style>\n",
       "<table border=\"1\" class=\"dataframe\">\n",
       "  <thead>\n",
       "    <tr style=\"text-align: right;\">\n",
       "      <th></th>\n",
       "      <th>Titanic</th>\n",
       "      <th>Tiffany</th>\n",
       "      <th>StarTrek</th>\n",
       "      <th>Terminator</th>\n",
       "      <th>StarWars</th>\n",
       "    </tr>\n",
       "  </thead>\n",
       "  <tbody>\n",
       "    <tr>\n",
       "      <td>Julius</td>\n",
       "      <td>2</td>\n",
       "      <td>4</td>\n",
       "      <td>2</td>\n",
       "      <td>5</td>\n",
       "      <td>2</td>\n",
       "    </tr>\n",
       "    <tr>\n",
       "      <td>Dina</td>\n",
       "      <td>3</td>\n",
       "      <td>5</td>\n",
       "      <td>0</td>\n",
       "      <td>5</td>\n",
       "      <td>3</td>\n",
       "    </tr>\n",
       "    <tr>\n",
       "      <td>Flann</td>\n",
       "      <td>2</td>\n",
       "      <td>0</td>\n",
       "      <td>4</td>\n",
       "      <td>3</td>\n",
       "      <td>5</td>\n",
       "    </tr>\n",
       "    <tr>\n",
       "      <td>Alex</td>\n",
       "      <td>2</td>\n",
       "      <td>3</td>\n",
       "      <td>4</td>\n",
       "      <td>3</td>\n",
       "      <td>4</td>\n",
       "    </tr>\n",
       "    <tr>\n",
       "      <td>Xaver</td>\n",
       "      <td>5</td>\n",
       "      <td>0</td>\n",
       "      <td>3</td>\n",
       "      <td>4</td>\n",
       "      <td>3</td>\n",
       "    </tr>\n",
       "    <tr>\n",
       "      <td>Stefan</td>\n",
       "      <td>5</td>\n",
       "      <td>0</td>\n",
       "      <td>0</td>\n",
       "      <td>0</td>\n",
       "      <td>5</td>\n",
       "    </tr>\n",
       "  </tbody>\n",
       "</table>\n",
       "</div>"
      ],
      "text/plain": [
       "        Titanic  Tiffany  StarTrek  Terminator  StarWars\n",
       "Julius        2        4         2           5         2\n",
       "Dina          3        5         0           5         3\n",
       "Flann         2        0         4           3         5\n",
       "Alex          2        3         4           3         4\n",
       "Xaver         5        0         3           4         3\n",
       "Stefan        5        0         0           0         5"
      ]
     },
     "execution_count": 15,
     "metadata": {},
     "output_type": "execute_result"
    }
   ],
   "source": [
    "R"
   ]
  },
  {
   "cell_type": "code",
   "execution_count": 16,
   "metadata": {},
   "outputs": [],
   "source": [
    "# Add a new movie\n",
    "Moonlight = [[0, 0, 4, 0, 0, 4]]"
   ]
  },
  {
   "cell_type": "code",
   "execution_count": 17,
   "metadata": {},
   "outputs": [
    {
     "data": {
      "text/plain": [
       "NMF(alpha=0.0, beta_loss='frobenius', init=None, l1_ratio=0.0, max_iter=200,\n",
       "    n_components=2, random_state=None, shuffle=False, solver='cd', tol=0.0001,\n",
       "    verbose=0)"
      ]
     },
     "execution_count": 17,
     "metadata": {},
     "output_type": "execute_result"
    }
   ],
   "source": [
    "model2 = NMF(n_components=2)\n",
    "model2.fit(R.T)"
   ]
  },
  {
   "cell_type": "code",
   "execution_count": 18,
   "metadata": {},
   "outputs": [
    {
     "data": {
      "text/html": [
       "<div>\n",
       "<style scoped>\n",
       "    .dataframe tbody tr th:only-of-type {\n",
       "        vertical-align: middle;\n",
       "    }\n",
       "\n",
       "    .dataframe tbody tr th {\n",
       "        vertical-align: top;\n",
       "    }\n",
       "\n",
       "    .dataframe thead th {\n",
       "        text-align: right;\n",
       "    }\n",
       "</style>\n",
       "<table border=\"1\" class=\"dataframe\">\n",
       "  <thead>\n",
       "    <tr style=\"text-align: right;\">\n",
       "      <th></th>\n",
       "      <th>Julius</th>\n",
       "      <th>Dina</th>\n",
       "      <th>Flann</th>\n",
       "      <th>Alex</th>\n",
       "      <th>Xaver</th>\n",
       "      <th>Stefan</th>\n",
       "    </tr>\n",
       "  </thead>\n",
       "  <tbody>\n",
       "    <tr>\n",
       "      <td>0</td>\n",
       "      <td>0.955960</td>\n",
       "      <td>1.038734</td>\n",
       "      <td>1.861530</td>\n",
       "      <td>1.547680</td>\n",
       "      <td>1.875835</td>\n",
       "      <td>1.720977</td>\n",
       "    </tr>\n",
       "    <tr>\n",
       "      <td>1</td>\n",
       "      <td>1.482024</td>\n",
       "      <td>1.658239</td>\n",
       "      <td>0.223974</td>\n",
       "      <td>0.845144</td>\n",
       "      <td>0.415935</td>\n",
       "      <td>0.000000</td>\n",
       "    </tr>\n",
       "  </tbody>\n",
       "</table>\n",
       "</div>"
      ],
      "text/plain": [
       "     Julius      Dina     Flann      Alex     Xaver    Stefan\n",
       "0  0.955960  1.038734  1.861530  1.547680  1.875835  1.720977\n",
       "1  1.482024  1.658239  0.223974  0.845144  0.415935  0.000000"
      ]
     },
     "execution_count": 18,
     "metadata": {},
     "output_type": "execute_result"
    }
   ],
   "source": [
    "pd.DataFrame(model2.components_, columns=users + ['Stefan'])"
   ]
  },
  {
   "cell_type": "code",
   "execution_count": 19,
   "metadata": {},
   "outputs": [
    {
     "data": {
      "text/plain": [
       "array([[2.03701712, 0.11199629],\n",
       "       [0.        , 2.84770556],\n",
       "       [1.46126377, 0.04085459],\n",
       "       [0.89357627, 2.63932681],\n",
       "       [2.4249332 , 0.        ]])"
      ]
     },
     "execution_count": 19,
     "metadata": {},
     "output_type": "execute_result"
    }
   ],
   "source": [
    "model2.transform(R.T)"
   ]
  },
  {
   "cell_type": "code",
   "execution_count": 20,
   "metadata": {},
   "outputs": [
    {
     "data": {
      "text/plain": [
       "array([[0.999726, 0.      ]])"
      ]
     },
     "execution_count": 20,
     "metadata": {},
     "output_type": "execute_result"
    }
   ],
   "source": [
    "model2.transform(Moonlight)"
   ]
  },
  {
   "cell_type": "markdown",
   "metadata": {},
   "source": [
    "### Imputation\n",
    "\n",
    "Ideas for imputation could be:\n",
    "\n",
    "- Write your own NMF algorithm to impute missing values\n",
    "- Fill missing values with 0\n",
    "- Fill missing values with user mean\n",
    "- Fill missing values with movie mean\n",
    "- Fill missing values using KNNImputer from sklearn:"
   ]
  },
  {
   "cell_type": "code",
   "execution_count": 46,
   "metadata": {},
   "outputs": [],
   "source": [
    "from sklearn.impute import KNNImputer"
   ]
  },
  {
   "cell_type": "code",
   "execution_count": 47,
   "metadata": {},
   "outputs": [],
   "source": [
    "imputer = KNNImputer(n_neighbors=2)"
   ]
  },
  {
   "cell_type": "code",
   "execution_count": 48,
   "metadata": {},
   "outputs": [
    {
     "data": {
      "text/html": [
       "<div>\n",
       "<style scoped>\n",
       "    .dataframe tbody tr th:only-of-type {\n",
       "        vertical-align: middle;\n",
       "    }\n",
       "\n",
       "    .dataframe tbody tr th {\n",
       "        vertical-align: top;\n",
       "    }\n",
       "\n",
       "    .dataframe thead th {\n",
       "        text-align: right;\n",
       "    }\n",
       "</style>\n",
       "<table border=\"1\" class=\"dataframe\">\n",
       "  <thead>\n",
       "    <tr style=\"text-align: right;\">\n",
       "      <th></th>\n",
       "      <th>Titanic</th>\n",
       "      <th>Tiffany</th>\n",
       "      <th>StarTrek</th>\n",
       "      <th>Terminator</th>\n",
       "      <th>StarWars</th>\n",
       "    </tr>\n",
       "  </thead>\n",
       "  <tbody>\n",
       "    <tr>\n",
       "      <th>Julius</th>\n",
       "      <td>2</td>\n",
       "      <td>4.0</td>\n",
       "      <td>2.0</td>\n",
       "      <td>5</td>\n",
       "      <td>2</td>\n",
       "    </tr>\n",
       "    <tr>\n",
       "      <th>Dina</th>\n",
       "      <td>3</td>\n",
       "      <td>5.0</td>\n",
       "      <td>NaN</td>\n",
       "      <td>5</td>\n",
       "      <td>3</td>\n",
       "    </tr>\n",
       "    <tr>\n",
       "      <th>Flann</th>\n",
       "      <td>2</td>\n",
       "      <td>NaN</td>\n",
       "      <td>4.0</td>\n",
       "      <td>3</td>\n",
       "      <td>5</td>\n",
       "    </tr>\n",
       "    <tr>\n",
       "      <th>Alex</th>\n",
       "      <td>2</td>\n",
       "      <td>3.0</td>\n",
       "      <td>4.0</td>\n",
       "      <td>3</td>\n",
       "      <td>4</td>\n",
       "    </tr>\n",
       "    <tr>\n",
       "      <th>Xaver</th>\n",
       "      <td>5</td>\n",
       "      <td>0.0</td>\n",
       "      <td>3.0</td>\n",
       "      <td>4</td>\n",
       "      <td>3</td>\n",
       "    </tr>\n",
       "  </tbody>\n",
       "</table>\n",
       "</div>"
      ],
      "text/plain": [
       "        Titanic  Tiffany  StarTrek  Terminator  StarWars\n",
       "Julius        2      4.0       2.0           5         2\n",
       "Dina          3      5.0       NaN           5         3\n",
       "Flann         2      NaN       4.0           3         5\n",
       "Alex          2      3.0       4.0           3         4\n",
       "Xaver         5      0.0       3.0           4         3"
      ]
     },
     "execution_count": 48,
     "metadata": {},
     "output_type": "execute_result"
    }
   ],
   "source": [
    "R"
   ]
  },
  {
   "cell_type": "code",
   "execution_count": 49,
   "metadata": {},
   "outputs": [
    {
     "data": {
      "text/plain": [
       "array([[2., 4., 2., 5., 2.],\n",
       "       [3., 5., 3., 5., 3.],\n",
       "       [2., 4., 4., 3., 5.],\n",
       "       [2., 3., 4., 3., 4.],\n",
       "       [5., 0., 3., 4., 3.]])"
      ]
     },
     "execution_count": 49,
     "metadata": {},
     "output_type": "execute_result"
    }
   ],
   "source": [
    "imputer.fit_transform(R)"
   ]
  },
  {
   "cell_type": "markdown",
   "metadata": {},
   "source": [
    "### Save a model"
   ]
  },
  {
   "cell_type": "code",
   "execution_count": 60,
   "metadata": {},
   "outputs": [
    {
     "data": {
      "text/plain": [
       "670"
      ]
     },
     "execution_count": 60,
     "metadata": {},
     "output_type": "execute_result"
    }
   ],
   "source": [
    "import pickle\n",
    "\n",
    "binary = pickle.dumps(model)\n",
    "open('nmf_model.bin', 'wb').write(binary)"
   ]
  },
  {
   "cell_type": "code",
   "execution_count": 61,
   "metadata": {},
   "outputs": [],
   "source": [
    "binary = open('nmf_model.bin', 'rb').read()\n",
    "nmf = pickle.loads(binary)"
   ]
  },
  {
   "cell_type": "code",
   "execution_count": 63,
   "metadata": {},
   "outputs": [
    {
     "data": {
      "text/plain": [
       "array([[1.51142584, 0.        , 2.08975471, 1.50112247, 2.11231473],\n",
       "       [0.87860437, 2.26452883, 0.        , 1.993976  , 0.72774299]])"
      ]
     },
     "execution_count": 63,
     "metadata": {},
     "output_type": "execute_result"
    }
   ],
   "source": [
    "nmf.components_"
   ]
  },
  {
   "cell_type": "code",
   "execution_count": null,
   "metadata": {},
   "outputs": [],
   "source": []
  }
 ],
 "metadata": {
  "kernelspec": {
   "display_name": "Python 3",
   "language": "python",
   "name": "python3"
  },
  "language_info": {
   "codemirror_mode": {
    "name": "ipython",
    "version": 3
   },
   "file_extension": ".py",
   "mimetype": "text/x-python",
   "name": "python",
   "nbconvert_exporter": "python",
   "pygments_lexer": "ipython3",
   "version": "3.7.4"
  }
 },
 "nbformat": 4,
 "nbformat_minor": 4
}
